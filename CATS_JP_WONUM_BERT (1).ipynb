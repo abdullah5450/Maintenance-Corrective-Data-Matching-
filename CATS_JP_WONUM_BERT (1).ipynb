{
 "cells": [
  {
   "cell_type": "code",
   "execution_count": 1,
   "id": "1beccbc9",
   "metadata": {},
   "outputs": [],
   "source": [
    "# Loading necessary packages\n",
    "import pandas as pd\n",
    "import nltk\n",
    "from rake_nltk import Rake\n",
    "import re\n",
    "from nltk.corpus import stopwords\n",
    "from nltk.tokenize import word_tokenize\n",
    "from nltk.stem import PorterStemmer\n",
    "from sentence_transformers import SentenceTransformer\n",
    "from sklearn.metrics.pairwise import cosine_similarity\n",
    "import numpy as np"
   ]
  },
  {
   "cell_type": "code",
   "execution_count": 2,
   "id": "a79040d3",
   "metadata": {},
   "outputs": [],
   "source": [
    "# Load the data set\n",
    "cats_jp = pd.read_excel(\"CATS Example data CO & JPs.xlsb\",sheet_name = 'Job Plan', header = 0, engine='pyxlsb')\n",
    "cats_corr = pd.read_excel(\"CATS Example data CO & JPs.xlsb\",sheet_name = 'Correctives', header = 0, engine='pyxlsb')"
   ]
  },
  {
   "cell_type": "code",
   "execution_count": 3,
   "id": "a2cfac68",
   "metadata": {},
   "outputs": [],
   "source": [
    "# Loading Sentence Transformer model for generating mean tokens of texts\n",
    "model = SentenceTransformer('bert-base-nli-mean-tokens')"
   ]
  },
  {
   "cell_type": "code",
   "execution_count": 4,
   "id": "46a2b110",
   "metadata": {},
   "outputs": [],
   "source": [
    "# Extracting the WO and JP descriptions\n",
    "wo_desc = cats_corr['DESCRIPTION'].tolist()\n",
    "jp_desc = cats_jp['PM Description '].tolist()"
   ]
  },
  {
   "cell_type": "code",
   "execution_count": 5,
   "id": "28d07a01",
   "metadata": {},
   "outputs": [],
   "source": [
    "# Encoding the WO and JP descriptions into embeddings\n",
    "wo_desc_embed = model.encode(wo_desc)\n",
    "jp_desc_embed = model.encode(jp_desc)"
   ]
  },
  {
   "cell_type": "code",
   "execution_count": 6,
   "id": "bef3868e",
   "metadata": {},
   "outputs": [],
   "source": [
    "# Generating cosine similarity scores of WONUM embedding for each JP embedding (1:N)\n",
    "wonum_match_score = []\n",
    "for i in wo_desc_embed:\n",
    "    cos_match = cosine_similarity([i],jp_desc_embed[:])\n",
    "    score_list = np.array(cos_match).tolist()\n",
    "    wonum_match_score.append(score_list[0])"
   ]
  },
  {
   "cell_type": "code",
   "execution_count": 7,
   "id": "035581fd",
   "metadata": {},
   "outputs": [],
   "source": [
    "def avg_value(l):\n",
    "    return sum(l)/len(l)"
   ]
  },
  {
   "cell_type": "code",
   "execution_count": 8,
   "id": "8d7376fe",
   "metadata": {},
   "outputs": [],
   "source": [
    "avg_cosine_wos = [avg_value(i) for i in wonum_match_score]"
   ]
  },
  {
   "cell_type": "code",
   "execution_count": 11,
   "id": "45ceaf37",
   "metadata": {},
   "outputs": [
    {
     "data": {
      "image/png": "[encoded data removed]",
      "text/plain": [
       "<Figure size 432x288 with 1 Axes>"
      ]
     },
     "metadata": {
      "needs_background": "light"
     },
     "output_type": "display_data"
    }
   ],
   "source": [
    "import matplotlib.pyplot as plt\n",
    "plt.hist(avg_cosine_wos,bins = 10)\n",
    "plt.xlabel(\"Average Cosine Similarity\")\n",
    "plt.ylabel(\"Frequency\")\n",
    "plt.show()"
   ]
  },
  {
   "cell_type": "code",
   "execution_count": 13,
   "id": "2ff1e82d",
   "metadata": {},
   "outputs": [
    {
     "data": {
      "image/png": "[encoded data removed]",
      "text/plain": [
       "<Figure size 432x288 with 1 Axes>"
      ]
     },
     "metadata": {
      "needs_background": "light"
     },
     "output_type": "display_data"
    }
   ],
   "source": [
    "plt.hist(wonum_match_score[0],bins = 10)\n",
    "plt.xlabel(\"Cosine Similarity for a single WO across all JPs\")\n",
    "plt.ylabel(\"Frequency\")\n",
    "plt.show()"
   ]
  },
  {
   "cell_type": "code",
   "execution_count": 14,
   "id": "51a75303",
   "metadata": {},
   "outputs": [],
   "source": [
    "# Filtering out JP indices with cosine similarity > 0.60\n",
    "high_score = []\n",
    "high_inds = []\n",
    "for i in wonum_match_score:\n",
    "    hscore = [j for j in i if j>0.60]\n",
    "    hind = [i.index(k) for k in hscore]\n",
    "    high_score.append(hscore)\n",
    "    high_inds.append(hind)"
   ]
  },
  {
   "cell_type": "code",
   "execution_count": 15,
   "id": "34c4d262",
   "metadata": {},
   "outputs": [],
   "source": [
    "jp_list = cats_jp['JP '].tolist()"
   ]
  },
  {
   "cell_type": "code",
   "execution_count": 16,
   "id": "b29b2df9",
   "metadata": {},
   "outputs": [],
   "source": [
    "# Extracting JP IDs based on indices whose cosine similarity scores > 0.60\n",
    "jp_nums = []\n",
    "for i in high_inds:\n",
    "    ref_list = [jp_list[j] for j in i]\n",
    "    jp_nums.append(ref_list)"
   ]
  },
  {
   "cell_type": "code",
   "execution_count": 17,
   "id": "6a5df11a",
   "metadata": {},
   "outputs": [],
   "source": [
    "# Removing Duplicate JP IDs\n",
    "unique_jp_nums = [list(dict.fromkeys(i)) for i in jp_nums]"
   ]
  },
  {
   "cell_type": "code",
   "execution_count": 18,
   "id": "3446a7d7",
   "metadata": {},
   "outputs": [],
   "source": [
    "# Generating the mapping data frame for WONUM and JPs\n",
    "wonum_jp_match_bert = pd.DataFrame({\n",
    "    'WONUM':cats_corr['WONUM'].tolist(),\n",
    "    'JP':unique_jp_nums\n",
    "})"
   ]
  },
  {
   "cell_type": "code",
   "execution_count": 19,
   "id": "5e580500",
   "metadata": {},
   "outputs": [],
   "source": [
    "wonum_jp_match_bert.to_excel('WONUM_JP_Bert_Cosine.xlsx', index = False)"
   ]
  },
  {
   "cell_type": "markdown",
   "id": "436de027",
   "metadata": {},
   "source": []
  }
 ],
 "metadata": {
  "kernelspec": {
   "display_name": "Python 3",
   "language": "python",
   "name": "python3"
  },
  "language_info": {
   "codemirror_mode": {
    "name": "ipython",
    "version": 3
   },
   "file_extension": ".py",
   "mimetype": "text/x-python",
   "name": "python",
   "nbconvert_exporter": "python",
   "pygments_lexer": "ipython3",
   "version": "3.8.8"
  }
 },
 "nbformat": 4,
 "nbformat_minor": 5
}
